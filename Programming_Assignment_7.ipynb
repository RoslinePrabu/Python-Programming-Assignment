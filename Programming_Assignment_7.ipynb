{
 "cells": [
  {
   "cell_type": "code",
   "execution_count": null,
   "id": "a0a7d460",
   "metadata": {},
   "outputs": [],
   "source": [
    "1.\tWrite a Python Program to find sum of array?\n",
    "2.\tWrite a Python Program to find largest element in an array?\n",
    "3.\tWrite a Python Program for array rotation?\n",
    "4.\tWrite a Python Program to Split the array and add the first part to the end?\n",
    "5.\tWrite a Python Program to check if given array is Monotonic?\n"
   ]
  },
  {
   "cell_type": "code",
   "execution_count": 3,
   "id": "f4482a6b",
   "metadata": {},
   "outputs": [
    {
     "name": "stdout",
     "output_type": "stream",
     "text": [
      "sum of the given  array [11, 12, 13, 14, 15, 16, 17, 18, 19] is 135\n"
     ]
    }
   ],
   "source": [
    "#1.\tWrite a Python Program to find sum of array?\n",
    "\n",
    "\n",
    "lst = [11,12,13,14,15,16,17,18,19]\n",
    "sum(lst)\n",
    "print(\"sum of the given  array {} is {}\".format(lst,sum(lst)))"
   ]
  },
  {
   "cell_type": "code",
   "execution_count": 4,
   "id": "eda08c98",
   "metadata": {},
   "outputs": [
    {
     "name": "stdout",
     "output_type": "stream",
     "text": [
      "largest element in the array [1000, 2410, 3210, 670, 445, 9] is 3210\n"
     ]
    }
   ],
   "source": [
    "#2.\tWrite a Python Program to find largest element in an array?\n",
    "\n",
    "\n",
    "lst = [1000,2410,3210,670,445,9]\n",
    "max(lst)\n",
    "print(\"largest element in the array {} is {}\".format(lst,max(lst)))"
   ]
  },
  {
   "cell_type": "code",
   "execution_count": 6,
   "id": "9b61fd45",
   "metadata": {},
   "outputs": [
    {
     "name": "stdout",
     "output_type": "stream",
     "text": [
      "Rotated array:\n",
      "[432, 369, 123, -341, 33, 42, 16]\n"
     ]
    }
   ],
   "source": [
    "#3.\tWrite a Python Program for array rotation?\n",
    "\n",
    "l = [16,42,33,-341, 123, 369, 432]\n",
    "\n",
    "print(\"Rotated array:\")\n",
    "print(l[::-1])"
   ]
  },
  {
   "cell_type": "code",
   "execution_count": 7,
   "id": "b3e993a5",
   "metadata": {},
   "outputs": [],
   "source": [
    "#4.\tWrite a Python Program to Split the array and add the first part to the end?\n",
    "\n",
    "def splitAdd(l, split):\n",
    "    '''\n",
    "    l = list\n",
    "    split = splitIndex\n",
    "    '''\n",
    "    out = []\n",
    "    for i in range(len(l)):\n",
    "        index = (i+len(l)+split)%len(l)\n",
    "        out.append(l[index])\n",
    "        \n",
    "    return out\n"
   ]
  },
  {
   "cell_type": "code",
   "execution_count": 8,
   "id": "0d199cd1",
   "metadata": {},
   "outputs": [
    {
     "data": {
      "text/plain": [
       "[3, -412, 123, 369, 111, 1, 2]"
      ]
     },
     "execution_count": 8,
     "metadata": {},
     "output_type": "execute_result"
    }
   ],
   "source": [
    "l = [1,2,3,-412, 123, 369, 111]\n",
    "splitIndex = 2\n",
    "splitAdd(l, splitIndex)"
   ]
  },
  {
   "cell_type": "code",
   "execution_count": 10,
   "id": "74a041b4",
   "metadata": {},
   "outputs": [
    {
     "name": "stdout",
     "output_type": "stream",
     "text": [
      "Enter the lenth of your list : 5\n",
      "12\n",
      "23\n",
      "34\n",
      "45\n",
      "56\n",
      "The List is  [12, 23, 34, 45, 56]\n",
      "Monotonic\n"
     ]
    }
   ],
   "source": [
    "#5.\tWrite a Python Program to check if given array is Monotonic?  \n",
    "#Given an array A containing n integers. The task is to check whether the array is Monotonic or not. An array is monotonic if it is either monotone increasing or monotone decreasing.\n",
    "#An array A is monotone increasing if for all i <= j, A[i] <= A[j]. An array A is monotone decreasing if for all i <= j, A[i] >= A[j].\n",
    "#Return “True” if the given array A is monotonic else return “False” (without quotes).\n",
    "\n",
    "n = int(input(\"Enter the lenth of your list : \"))\n",
    "lst = []\n",
    "\n",
    "for i in range(n):\n",
    "    lst.append(int(input()))\n",
    "print(\"The List is \",lst)\n",
    "\n",
    "if all((lst[i] <= lst[i+1] for i in range(n-1)) or (lst[i] >= lst[i+1] for i in range(n-1))):\n",
    "    print(\"Monotonic\")\n",
    "else:\n",
    "    print(\"Not Monotonic\")"
   ]
  },
  {
   "cell_type": "code",
   "execution_count": null,
   "id": "6ba9d7e3",
   "metadata": {},
   "outputs": [],
   "source": []
  }
 ],
 "metadata": {
  "kernelspec": {
   "display_name": "Python 3",
   "language": "python",
   "name": "python3"
  },
  "language_info": {
   "codemirror_mode": {
    "name": "ipython",
    "version": 3
   },
   "file_extension": ".py",
   "mimetype": "text/x-python",
   "name": "python",
   "nbconvert_exporter": "python",
   "pygments_lexer": "ipython3",
   "version": "3.8.5"
  }
 },
 "nbformat": 4,
 "nbformat_minor": 5
}
