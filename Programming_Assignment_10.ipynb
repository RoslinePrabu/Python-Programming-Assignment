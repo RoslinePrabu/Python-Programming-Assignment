{
 "cells": [
  {
   "cell_type": "markdown",
   "id": "857b33c1",
   "metadata": {},
   "source": [
    "1. Write a Python program to find sum of elements in list?"
   ]
  },
  {
   "cell_type": "code",
   "execution_count": 1,
   "id": "e1fd0581",
   "metadata": {},
   "outputs": [
    {
     "name": "stdout",
     "output_type": "stream",
     "text": [
      "25\n"
     ]
    }
   ],
   "source": [
    "l = [2, 4, 1, 5, 6, 7]\n",
    "\n",
    "total = 0\n",
    "for i in l:\n",
    "    total += i\n",
    "    \n",
    "print(total)"
   ]
  },
  {
   "cell_type": "markdown",
   "id": "b768b550",
   "metadata": {},
   "source": [
    "2. Write a Python program to Multiply all numbers in the list?"
   ]
  },
  {
   "cell_type": "code",
   "execution_count": 3,
   "id": "88ec8561",
   "metadata": {},
   "outputs": [
    {
     "name": "stdout",
     "output_type": "stream",
     "text": [
      "1680\n"
     ]
    }
   ],
   "source": [
    "l = [2, 4, 1, 5, 6, 7]\n",
    "\n",
    "total = 1\n",
    "for i in l:\n",
    "    total *= i\n",
    "    \n",
    "print(total)"
   ]
  },
  {
   "cell_type": "markdown",
   "id": "6c5e0736",
   "metadata": {},
   "source": [
    "3. Write a Python program to find smallest number in a list?"
   ]
  },
  {
   "cell_type": "code",
   "execution_count": 4,
   "id": "b2f4344a",
   "metadata": {},
   "outputs": [
    {
     "name": "stdout",
     "output_type": "stream",
     "text": [
      "-7123\n"
     ]
    }
   ],
   "source": [
    "l = [2, 0, 1, 1235, 6, -7123]\n",
    "\n",
    "minimum = l[0]\n",
    "for i in l:\n",
    "    if i < minimum:\n",
    "        minimum = i\n",
    "        \n",
    "print(minimum)"
   ]
  },
  {
   "cell_type": "markdown",
   "id": "cd3b3a15",
   "metadata": {},
   "source": [
    "4. Write a Python program to find largest number in a list?"
   ]
  },
  {
   "cell_type": "code",
   "execution_count": 5,
   "id": "12f30e60",
   "metadata": {},
   "outputs": [
    {
     "name": "stdout",
     "output_type": "stream",
     "text": [
      "1235\n"
     ]
    }
   ],
   "source": [
    "l = [2, 0, 1, 1235, 6, -7123]\n",
    "\n",
    "maximum = l[0]\n",
    "for i in l:\n",
    "    if i > maximum:\n",
    "        maximum = i\n",
    "        \n",
    "print(maximum)\n"
   ]
  },
  {
   "cell_type": "markdown",
   "id": "f7152b3e",
   "metadata": {},
   "source": [
    "5. Write a Python program to find second largest number in a list?"
   ]
  },
  {
   "cell_type": "code",
   "execution_count": 6,
   "id": "279c3de6",
   "metadata": {},
   "outputs": [
    {
     "name": "stdout",
     "output_type": "stream",
     "text": [
      "Second largest number: 6\n"
     ]
    }
   ],
   "source": [
    "l = [2, 0, 1, 1235, 6, -7123]\n",
    "l.sort(reverse=True)\n",
    "print(\"Second largest number:\", l[1])"
   ]
  },
  {
   "cell_type": "markdown",
   "id": "f29932fa",
   "metadata": {},
   "source": [
    "6. Write a Python program to find N largest elements from a list?"
   ]
  },
  {
   "cell_type": "code",
   "execution_count": 7,
   "id": "8da03bb4",
   "metadata": {},
   "outputs": [],
   "source": [
    "def findLarge(lst, n):\n",
    "    \n",
    "    lst.sort(reverse = True)\n",
    "    return lst[n-1]"
   ]
  },
  {
   "cell_type": "code",
   "execution_count": 8,
   "id": "2ca6ff92",
   "metadata": {},
   "outputs": [
    {
     "data": {
      "text/plain": [
       "6"
      ]
     },
     "execution_count": 8,
     "metadata": {},
     "output_type": "execute_result"
    }
   ],
   "source": [
    "# 2nd Largest Element\n",
    "\n",
    "l = [2, 0, 1, 1235, 6, -7123]\n",
    "findLarge(l, 2)"
   ]
  },
  {
   "cell_type": "code",
   "execution_count": 9,
   "id": "c42f465c",
   "metadata": {},
   "outputs": [
    {
     "data": {
      "text/plain": [
       "1"
      ]
     },
     "execution_count": 9,
     "metadata": {},
     "output_type": "execute_result"
    }
   ],
   "source": [
    "# 4th Largest Element\n",
    "\n",
    "l = [2, 0, 1, 1235, 6, -7123]\n",
    "findLarge(l, 4)"
   ]
  },
  {
   "cell_type": "markdown",
   "id": "5d8ebe3d",
   "metadata": {},
   "source": [
    "7. Write a Python program to print even numbers in a list?"
   ]
  },
  {
   "cell_type": "code",
   "execution_count": 10,
   "id": "8e293d30",
   "metadata": {},
   "outputs": [
    {
     "data": {
      "text/plain": [
       "[2, 0, 6, 54, 12, -42]"
      ]
     },
     "execution_count": 10,
     "metadata": {},
     "output_type": "execute_result"
    }
   ],
   "source": [
    "l = [2, 0, 1, 1235, 6, -7123, 21, 54, 12, -23, -42]\n",
    "\n",
    "[ i for i in l if i%2 == 0]"
   ]
  },
  {
   "cell_type": "markdown",
   "id": "1430e323",
   "metadata": {},
   "source": [
    "8. Write a Python program to print odd numbers in a List?"
   ]
  },
  {
   "cell_type": "code",
   "execution_count": 11,
   "id": "873d17c2",
   "metadata": {},
   "outputs": [
    {
     "data": {
      "text/plain": [
       "[1, 1235, -7123, 21, -23]"
      ]
     },
     "execution_count": 11,
     "metadata": {},
     "output_type": "execute_result"
    }
   ],
   "source": [
    "l = [2, 0, 1, 1235, 6, -7123, 21, 54, 12, -23, -42]\n",
    "\n",
    "[ i for i in l if i%2 == 1]"
   ]
  },
  {
   "cell_type": "markdown",
   "id": "570bf3eb",
   "metadata": {},
   "source": [
    "9. Write a Python program to Remove empty List from List?"
   ]
  },
  {
   "cell_type": "code",
   "execution_count": null,
   "id": "15784330",
   "metadata": {},
   "outputs": [],
   "source": [
    "l = [[], 12, 31, [1,2, -23] , [1], [], [123.23], [], 2, 321]\n",
    "\n",
    "result = []\n",
    "for i in l:\n",
    "    if type(i) == list:\n",
    "        if len(i) != 0:\n",
    "            result.append(i)\n",
    "    else:\n",
    "        result.append(i)\n",
    "\n",
    "result\n",
    "            "
   ]
  },
  {
   "cell_type": "markdown",
   "id": "f51e2411",
   "metadata": {},
   "source": [
    "10. Write a Python program to Cloning or Copying a list?"
   ]
  },
  {
   "cell_type": "code",
   "execution_count": 12,
   "id": "5ec901cc",
   "metadata": {},
   "outputs": [
    {
     "name": "stdout",
     "output_type": "stream",
     "text": [
      "[2, 1, 31, 3, 412, 3, 4667, [2, 3, 1]]\n"
     ]
    }
   ],
   "source": [
    "list1 = [2,1, 31, 3, 412, 3, 4667, [2,3,1]]\n",
    "list2 = []\n",
    "\n",
    "for i in list1:\n",
    "    list2.append(i)\n",
    "    \n",
    "print(list2)"
   ]
  },
  {
   "cell_type": "markdown",
   "id": "34aa99ab",
   "metadata": {},
   "source": [
    "11. Write a Python program to Count occurrences of an element in a list?"
   ]
  },
  {
   "cell_type": "code",
   "execution_count": 14,
   "id": "acc73811",
   "metadata": {},
   "outputs": [],
   "source": [
    "l = [1,1,1, 3, 4, 1, 7, 8, 6,6,2,1]\n",
    "\n",
    "def occurrences(lst, element):\n",
    "    count = 0\n",
    "    for i in lst:\n",
    "        if i == element:\n",
    "            count += 1\n",
    "            \n",
    "    return count"
   ]
  },
  {
   "cell_type": "code",
   "execution_count": 15,
   "id": "48f02654",
   "metadata": {},
   "outputs": [
    {
     "data": {
      "text/plain": [
       "5"
      ]
     },
     "execution_count": 15,
     "metadata": {},
     "output_type": "execute_result"
    }
   ],
   "source": [
    "occurrences(l, 1)"
   ]
  },
  {
   "cell_type": "code",
   "execution_count": null,
   "id": "c6d5023e",
   "metadata": {},
   "outputs": [],
   "source": []
  }
 ],
 "metadata": {
  "kernelspec": {
   "display_name": "Python 3",
   "language": "python",
   "name": "python3"
  },
  "language_info": {
   "codemirror_mode": {
    "name": "ipython",
    "version": 3
   },
   "file_extension": ".py",
   "mimetype": "text/x-python",
   "name": "python",
   "nbconvert_exporter": "python",
   "pygments_lexer": "ipython3",
   "version": "3.8.5"
  }
 },
 "nbformat": 4,
 "nbformat_minor": 5
}
