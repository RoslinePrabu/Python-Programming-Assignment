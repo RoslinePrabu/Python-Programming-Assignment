{
 "cells": [
  {
   "cell_type": "markdown",
   "id": "87810f02",
   "metadata": {},
   "source": [
    "QUESTIONS:\n",
    "\n",
    "1.\tWrite a Python program to print \"Hello Python\"?\n",
    "2.\tWrite a Python program to do arithmetical operations addition and division.?\n",
    "3.\tWrite a Python program to find the area of a triangle?\n",
    "4.\tWrite a Python program to swap two variables?\n",
    "5.\tWrite a Python program to generate a random number\n"
   ]
  },
  {
   "cell_type": "code",
   "execution_count": 1,
   "id": "f5544cab",
   "metadata": {},
   "outputs": [
    {
     "name": "stdout",
     "output_type": "stream",
     "text": [
      "Hello Python\n"
     ]
    }
   ],
   "source": [
    "#Answer 1:\n",
    "print(\"Hello Python\")"
   ]
  },
  {
   "cell_type": "code",
   "execution_count": 2,
   "id": "6da924f0",
   "metadata": {},
   "outputs": [
    {
     "name": "stdout",
     "output_type": "stream",
     "text": [
      "Enter the first number : 60\n",
      "Enter the second number : 10\n",
      "Addition of two numbers is :  70\n",
      "Division of two numbers is :  6.0\n"
     ]
    }
   ],
   "source": [
    "# Answer 2:\n",
    "x = input(\"Enter the first number : \")\n",
    "y = input(\"Enter the second number : \")\n",
    "print(\"Addition of two numbers is : \", int(x)+int(y))\n",
    "print(\"Division of two numbers is : \", int(x)/int(y))"
   ]
  },
  {
   "cell_type": "code",
   "execution_count": 3,
   "id": "772d97a2",
   "metadata": {},
   "outputs": [
    {
     "name": "stdout",
     "output_type": "stream",
     "text": [
      " Enter the size of base : 3.7\n",
      " Enter the size of Height : 5\n",
      " Area of the triangle is :  9.25\n"
     ]
    }
   ],
   "source": [
    "# Answer 3:\n",
    "\n",
    "\n",
    "b = float(input(\" Enter the size of base : \"))\n",
    "h = float(input(\" Enter the size of Height : \"))\n",
    "print(\" Area of the triangle is : \", 0.5 * b * h)\n"
   ]
  },
  {
   "cell_type": "code",
   "execution_count": 4,
   "id": "83df232a",
   "metadata": {},
   "outputs": [
    {
     "name": "stdout",
     "output_type": "stream",
     "text": [
      " Value assigned to a : 45\n",
      " Value assigned to b : 89\n",
      " Present value of a :  89\n",
      " Present value of b :  45\n"
     ]
    }
   ],
   "source": [
    "# Answer 4:\n",
    "\n",
    "a = input(\" Value assigned to a : \")\n",
    "b = input(\" Value assigned to b : \")\n",
    "a,b = b,a\n",
    "print(\" Present value of a : \", a)\n",
    "print(\" Present value of b : \", b)"
   ]
  },
  {
   "cell_type": "code",
   "execution_count": 9,
   "id": "3c414149",
   "metadata": {},
   "outputs": [
    {
     "name": "stdout",
     "output_type": "stream",
     "text": [
      "6\n"
     ]
    }
   ],
   "source": [
    "# Answer :5\n",
    "\n",
    "import random\n",
    "print(random.randint(0,10))"
   ]
  }
 ],
 "metadata": {
  "kernelspec": {
   "display_name": "Python 3",
   "language": "python",
   "name": "python3"
  },
  "language_info": {
   "codemirror_mode": {
    "name": "ipython",
    "version": 3
   },
   "file_extension": ".py",
   "mimetype": "text/x-python",
   "name": "python",
   "nbconvert_exporter": "python",
   "pygments_lexer": "ipython3",
   "version": "3.8.5"
  }
 },
 "nbformat": 4,
 "nbformat_minor": 5
}
