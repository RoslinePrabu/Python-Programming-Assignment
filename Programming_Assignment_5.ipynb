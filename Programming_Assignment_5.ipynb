{
 "cells": [
  {
   "cell_type": "markdown",
   "id": "01d9606a",
   "metadata": {},
   "source": [
    "1.\tWrite a Python Program to Find LCM?\n",
    "2.\tWrite a Python Program to Find HCF?\n",
    "3.\tWrite a Python Program to Convert Decimal to Binary, Octal and Hexadecimal?\n",
    "4.\tWrite a Python Program To Find ASCII value of a character?\n",
    "5.\tWrite a Python Program to Make a Simple Calculator with 4 basic mathematical operations?\n"
   ]
  },
  {
   "cell_type": "code",
   "execution_count": 3,
   "id": "15e0a914",
   "metadata": {},
   "outputs": [
    {
     "name": "stdout",
     "output_type": "stream",
     "text": [
      "Enter the value of first number:22\n",
      "Enter the value of second number:7\n"
     ]
    },
    {
     "data": {
      "text/plain": [
       "154"
      ]
     },
     "execution_count": 3,
     "metadata": {},
     "output_type": "execute_result"
    }
   ],
   "source": [
    "#1.\tWrite a Python Program to Find LCM?\n",
    "\n",
    "def LCM(a,b):\n",
    "    '''\n",
    "    Function which return the LCM of two number.\n",
    "    '''\n",
    "    high = a if a > b else b\n",
    "    \n",
    "    while True:\n",
    "        if (high%a==0) and (high%b==0):\n",
    "            break\n",
    "        else:\n",
    "            high += 1\n",
    "            \n",
    "    return high\n",
    "a=int(input(\"Enter the value of first number:\"))\n",
    "b=int(input(\"Enter the value of second number:\"))\n",
    "LCM(a,b)"
   ]
  },
  {
   "cell_type": "code",
   "execution_count": 4,
   "id": "cf71c367",
   "metadata": {},
   "outputs": [
    {
     "name": "stdout",
     "output_type": "stream",
     "text": [
      "Enter the value of first number:22\n",
      "Enter the value of second number:7\n"
     ]
    },
    {
     "data": {
      "text/plain": [
       "1"
      ]
     },
     "execution_count": 4,
     "metadata": {},
     "output_type": "execute_result"
    }
   ],
   "source": [
    "#2.\tWrite a Python Program to Find HCF?\n",
    "\n",
    "\n",
    "\n",
    "def hcf(a, b):\n",
    "    \n",
    "    low = a if a < b else b\n",
    "    \n",
    "    for i in range(1, low+1):\n",
    "        if (a%i==0) and (b%i==0):\n",
    "            hcf = i\n",
    "            \n",
    "    return hcf\n",
    "a=int(input(\"Enter the value of first number:\"))\n",
    "b=int(input(\"Enter the value of second number:\"))\n",
    "hcf(a,b)\n"
   ]
  },
  {
   "cell_type": "code",
   "execution_count": 5,
   "id": "e57d3981",
   "metadata": {},
   "outputs": [
    {
     "name": "stdout",
     "output_type": "stream",
     "text": [
      "Enter the number:56\n",
      "Binary:       0b111000\n",
      "Octal:        0o70\n",
      "Hexadecimal:  0x38\n"
     ]
    }
   ],
   "source": [
    "#3. Write a Python Program to Convert Decimal to Binary, Octal and Hexadecimal?\n",
    "def conversion(num):\n",
    "    print(\"Binary:      \", bin(num))\n",
    "    print(\"Octal:       \", oct(num))\n",
    "    print(\"Hexadecimal: \", hex(num))\n",
    "num=int(input(\"Enter the number:\"))\n",
    "conversion(num)"
   ]
  },
  {
   "cell_type": "code",
   "execution_count": 6,
   "id": "f252459e",
   "metadata": {},
   "outputs": [
    {
     "name": "stdout",
     "output_type": "stream",
     "text": [
      "Enter a character: a\n",
      "ASCII value of a is 97\n"
     ]
    }
   ],
   "source": [
    "#4. Write a Python Program To Find ASCII value of a character?\n",
    "try:\n",
    "    char = input(\"Enter a character: \")\n",
    "    ASCII = ord(char)\n",
    "    print(\"ASCII value of {} is {}\".format(char, ASCII))\n",
    "except Exception as e:\n",
    "    print(e)"
   ]
  },
  {
   "cell_type": "code",
   "execution_count": null,
   "id": "2e9e2384",
   "metadata": {},
   "outputs": [
    {
     "name": "stdout",
     "output_type": "stream",
     "text": [
      "Enter first number: 34\n"
     ]
    }
   ],
   "source": [
    "#5. Write a Python Program to Make a Simple Calculator with 4 basic mathematical operations?\n",
    "\n",
    "try:\n",
    "    \n",
    "    while True:\n",
    "        num1 = int(input(\"Enter first number: \"))\n",
    "        num2 = int(input(\"Enter second number: \"))\n",
    "        \n",
    "        print(\"\\nFor addition:       +\")\n",
    "        print(\"For subtraction:    -\")\n",
    "        print(\"For multiplicaton:  *\")\n",
    "        print(\"For division:       /\")\n",
    "        print(\"For Exit:            X\")\n",
    "        \n",
    "        ch = input(\"\\nEnter the choice for mathematical operations: \")\n",
    "        \n",
    "        \n",
    "        if ch == '+':\n",
    "            output = num1 + num2\n",
    "        elif ch == '-':\n",
    "            output = num1 - num2\n",
    "        elif ch == '*':\n",
    "            output = num1 * num2\n",
    "        elif ch == '/':\n",
    "            output = num1 / num2\n",
    "        \n",
    "        if ch == 'X' or ch == 'x':\n",
    "            break\n",
    "            \n",
    "        print(\"\\nResult: \", output)\n",
    "        \n",
    "        \n",
    "            \n",
    "except Exception as e:\n",
    "    print(e)"
   ]
  },
  {
   "cell_type": "code",
   "execution_count": null,
   "id": "ff068a47",
   "metadata": {},
   "outputs": [],
   "source": []
  }
 ],
 "metadata": {
  "kernelspec": {
   "display_name": "Python 3",
   "language": "python",
   "name": "python3"
  },
  "language_info": {
   "codemirror_mode": {
    "name": "ipython",
    "version": 3
   },
   "file_extension": ".py",
   "mimetype": "text/x-python",
   "name": "python",
   "nbconvert_exporter": "python",
   "pygments_lexer": "ipython3",
   "version": "3.8.5"
  }
 },
 "nbformat": 4,
 "nbformat_minor": 5
}
