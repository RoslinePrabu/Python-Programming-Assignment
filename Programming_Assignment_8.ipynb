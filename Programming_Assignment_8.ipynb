{
 "cells": [
  {
   "cell_type": "code",
   "execution_count": null,
   "id": "3ed5bb6d",
   "metadata": {},
   "outputs": [],
   "source": [
    "1.\tWrite a Python Program to Add Two Matrices?\n",
    "2.\tWrite a Python Program to Multiply Two Matrices?\n",
    "3.\tWrite a Python Program to Transpose a Matrix?\n",
    "4.\tWrite a Python Program to Sort Words in Alphabetic Order?\n",
    "5.\tWrite a Python Program to Remove Punctuation From a String?\n"
   ]
  },
  {
   "cell_type": "code",
   "execution_count": 8,
   "id": "c09f4577",
   "metadata": {},
   "outputs": [
    {
     "name": "stdout",
     "output_type": "stream",
     "text": [
      "[[1 2 5]\n",
      " [3 4 9]]\n",
      "[[ 5  6  3]\n",
      " [ 7  8 12]]\n",
      "The addition of two matrices [[ 6  8  8]\n",
      " [10 12 21]]\n",
      "The addition of two matrices [[ 6  8  8]\n",
      " [10 12 21]]\n"
     ]
    }
   ],
   "source": [
    "#1.\tWrite a Python Program to Add Two Matrices?\n",
    "import numpy as np\n",
    "x=np.array([[1,2,5],[3,4,9]])\n",
    "y=np.array([[5,6,3],[7,8,12]])\n",
    "print(x)\n",
    "print(y)\n",
    "print(\"The addition of two matrices\",x+y)\n",
    "\n",
    "print(\"The addition of two matrices\",np.add(x,y))\n"
   ]
  },
  {
   "cell_type": "code",
   "execution_count": 14,
   "id": "ef7c7418",
   "metadata": {},
   "outputs": [
    {
     "name": "stdout",
     "output_type": "stream",
     "text": [
      "[10, 11, 8]\n",
      "[6, 13, 9]\n",
      "[11, 12, 7]\n"
     ]
    }
   ],
   "source": [
    "#Solution 2:\n",
    "#1.\tWrite a Python Program to Add Two Matrices?\n",
    "A = [[1,3,4],\n",
    "    [ 5,6,4],\n",
    "    [8 ,7,1]]\n",
    "\n",
    "B = [[9,8,4],\n",
    "    [1,7,5],\n",
    "    [3,5,6]]\n",
    "\n",
    "result = [[0,0,0],\n",
    "         [0,0,0],\n",
    "         [0,0,0]]\n",
    "\n",
    "\n",
    "for i in range(len(A)):\n",
    "   for j in range(len(A[0])):\n",
    "       result[i][j] = A[i][j] + B[i][j]\n",
    "\n",
    "for r in result:\n",
    "   print(r)"
   ]
  },
  {
   "cell_type": "code",
   "execution_count": 11,
   "id": "d1e4e381",
   "metadata": {},
   "outputs": [
    {
     "name": "stdout",
     "output_type": "stream",
     "text": [
      "[[1 2 9]\n",
      " [3 4 6]\n",
      " [7 8 9]]\n",
      "[[5 6 9]\n",
      " [7 8 6]\n",
      " [6 9 3]]\n",
      "The Multiplication of two matrices [[ 73 103  48]\n",
      " [ 79 104  69]\n",
      " [145 187 138]]\n",
      "The Multiplication of two matrices [[ 5 12 81]\n",
      " [21 32 36]\n",
      " [42 72 27]]\n",
      "The Multiplication of two matrices [[ 5 12 81]\n",
      " [21 32 36]\n",
      " [42 72 27]]\n"
     ]
    }
   ],
   "source": [
    "#2.\tWrite a Python Program to Multiply Two Matrices?\n",
    "import numpy as np\n",
    "x=np.array([[1,2,9],[3,4,6],[7,8,9]])\n",
    "y=np.array([[5,6,9],[7,8,6],[6,9,3]])\n",
    "print(x)\n",
    "print(y)\n",
    "print(\"The Multiplication of two matrices\",x.dot(y)) #matrix multiplication\n",
    "print(\"The Multiplication of two matrices\",x*y) #element wise multiplication\n",
    "print(\"The Multiplication of two matrices\",np.multiply(x,y)) #element wise multiplication\n",
    "\n"
   ]
  },
  {
   "cell_type": "code",
   "execution_count": null,
   "id": "2f29b894",
   "metadata": {},
   "outputs": [],
   "source": [
    "#Solution2:\n"
   ]
  },
  {
   "cell_type": "code",
   "execution_count": null,
   "id": "0ee3a024",
   "metadata": {},
   "outputs": [],
   "source": []
  }
 ],
 "metadata": {
  "kernelspec": {
   "display_name": "Python 3",
   "language": "python",
   "name": "python3"
  },
  "language_info": {
   "codemirror_mode": {
    "name": "ipython",
    "version": 3
   },
   "file_extension": ".py",
   "mimetype": "text/x-python",
   "name": "python",
   "nbconvert_exporter": "python",
   "pygments_lexer": "ipython3",
   "version": "3.8.5"
  }
 },
 "nbformat": 4,
 "nbformat_minor": 5
}
