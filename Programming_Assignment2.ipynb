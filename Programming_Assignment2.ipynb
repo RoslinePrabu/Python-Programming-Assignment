{
 "cells": [
  {
   "cell_type": "markdown",
   "id": "e4d3652c",
   "metadata": {},
   "source": [
    "1.\tWrite a Python program to convert kilometers to miles?\n",
    "2.\tWrite a Python program to convert Celsius to Fahrenheit?\n",
    "3.\tWrite a Python program to display calendar?\n",
    "4.\tWrite a Python program to solve quadratic equation?\n",
    "5.\tWrite a Python program to swap two variables without temp variable?\n"
   ]
  },
  {
   "cell_type": "code",
   "execution_count": 2,
   "id": "6f427908",
   "metadata": {},
   "outputs": [
    {
     "name": "stdout",
     "output_type": "stream",
     "text": [
      "Enter the Value in km : 34\n",
      "Value in Miles = 21.12658\n"
     ]
    }
   ],
   "source": [
    "# 1. Write a Python program to convert kilometers to miles?\n",
    "a = int(input(\"Enter the Value in km : \"))\n",
    "miles = 0.62137 * a\n",
    "print(\"Value in Miles = {}\".format(miles))\n"
   ]
  },
  {
   "cell_type": "code",
   "execution_count": 4,
   "id": "7af7bdf9",
   "metadata": {},
   "outputs": [
    {
     "name": "stdout",
     "output_type": "stream",
     "text": [
      "Enter the Value in 'Celsius' : 34\n",
      "Value in 'Fehrenheit' = 93.2\n"
     ]
    }
   ],
   "source": [
    "\n",
    "# 2. Write a Python program to convert Celsius to Fahrenheit?\n",
    "a = int(input(\"Enter the Value in 'Celsius' : \"))\n",
    "fer = (a * 9/5) + 32\n",
    "print(\"Value in 'Fehrenheit' = {}\".format(fer))\n",
    "\n"
   ]
  },
  {
   "cell_type": "code",
   "execution_count": 5,
   "id": "82d6ed83",
   "metadata": {},
   "outputs": [
    {
     "name": "stdout",
     "output_type": "stream",
     "text": [
      "Enter the Year : 1998\n",
      "Enter the Month : 5\n",
      "      May 1998\n",
      "Mo Tu We Th Fr Sa Su\n",
      "             1  2  3\n",
      " 4  5  6  7  8  9 10\n",
      "11 12 13 14 15 16 17\n",
      "18 19 20 21 22 23 24\n",
      "25 26 27 28 29 30 31\n",
      "\n"
     ]
    }
   ],
   "source": [
    "# 3. Write a Python program to display calendar?\n",
    "import calendar\n",
    "print(calendar.month(int(input(\"Enter the Year : \")),int(input(\"Enter the Month : \"))))\n",
    "\n"
   ]
  },
  {
   "cell_type": "code",
   "execution_count": 6,
   "id": "bcc9d236",
   "metadata": {},
   "outputs": [
    {
     "name": "stdout",
     "output_type": "stream",
     "text": [
      "Enter the Value of 'b' : 4\n",
      "Enter the Value of 'a' : 2\n",
      "Enter the Value of 'c' : 5\n",
      "The Values of the quadratic equation is : (-4+4.898979485566356j),(-4-4.898979485566356j)\n"
     ]
    }
   ],
   "source": [
    "#  4. Write a Python program to solve quadratic equation?\n",
    "# (-b + sqrt(b**2-4ac))/2a\n",
    "# (-b - sqrt(b**2-4ac))/2a\n",
    "import cmath\n",
    "b = int(input(\"Enter the Value of 'b' : \")) \n",
    "a = int(input(\"Enter the Value of 'a' : \")) \n",
    "c = int(input(\"Enter the Value of 'c' : \")) \n",
    "p = (-b + (cmath.sqrt(b**2-(4*a*c))))/2*a\n",
    "n = (-b - (cmath.sqrt(b**2-4*a*c)))/2*a\n",
    "print(\"The Values of the quadratic equation is : {},{}\".format(p,n))\n"
   ]
  },
  {
   "cell_type": "code",
   "execution_count": 4,
   "id": "fff46025",
   "metadata": {},
   "outputs": [
    {
     "name": "stdout",
     "output_type": "stream",
     "text": [
      "Enter the Value of 'a' : 56\n",
      "Enter the Value of 'b' : 79\n",
      "After Swapping the Value of a and b 79 56\n"
     ]
    }
   ],
   "source": [
    "# 5. Write a Python program to swap two variables without temp variable?\n",
    "a = input(\"Enter the Value of 'a' : \") \n",
    "b = input(\"Enter the Value of 'b' : \")\n",
    "\n",
    "a,b = b,a\n",
    "\n",
    "print(\"After Swapping the Value of a and b:\",a,b)"
   ]
  },
  {
   "cell_type": "code",
   "execution_count": null,
   "id": "37012bb0",
   "metadata": {},
   "outputs": [],
   "source": []
  }
 ],
 "metadata": {
  "kernelspec": {
   "display_name": "Python 3",
   "language": "python",
   "name": "python3"
  },
  "language_info": {
   "codemirror_mode": {
    "name": "ipython",
    "version": 3
   },
   "file_extension": ".py",
   "mimetype": "text/x-python",
   "name": "python",
   "nbconvert_exporter": "python",
   "pygments_lexer": "ipython3",
   "version": "3.8.5"
  }
 },
 "nbformat": 4,
 "nbformat_minor": 5
}
